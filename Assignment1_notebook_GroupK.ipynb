{
 "cells": [
  {
   "cell_type": "code",
   "execution_count": null,
   "metadata": {},
   "outputs": [],
   "source": [
    "# import the libraries\n"
   ]
  },
  {
   "cell_type": "markdown",
   "metadata": {},
   "source": [
    "# Assignment 1 - Basic Predictions and Regression\n",
    "\n",
    "## Regression Modelling\n",
    "\n",
    "<ul>\n",
    "<li><b>Use the data provided to try to predict the wage_eur target varaible. </b>\n",
    "</ul>\n",
    "\n",
    "The data is from FIFA rankings for players. You don't need to know anything about soccer or video games for this, so if these values are meaningless to you, just treat them as numbers and you'll be fine. All of the features are rankings are evaluations of how good different soccar players are at different skills.\n",
    "\n",
    "The goal here is to use the other data to predict the wage column. This is a regression problem, so you'll need to use a regression model. You can use any of the models you're comfortable with. As well, we want to be able to predict as accurately as possible, so you'll need to use some sort of metric to evaluate your model and (probably) make some changes to improve it. These changes can include things like changing the model, changing the features changing the hyperparameters, or considering factors such as target distribution or collinearity.\n",
    "\n",
    "## Grading\n",
    "\n",
    "The grades for this assignment will come from three main sources:\n",
    "\n",
    "<ul>\n",
    "<li> <b>35%</b> Code Quality - is your code well structured, well commented, and easy to follow? Is it clear what you're doing and why? Is it easy to run? Is it easy to understand the results?\n",
    "<li> <b>15%</b> Results - how well does your model perform? How well does it predict the wage column? This will be judged in context of the other models. \n",
    "<li> <b>50%</b> Process - how well do you explain what you did? How well do you explain why you did it in response to the prompts below?\n",
    "</ul>\n",
    "\n"
   ]
  },
  {
   "cell_type": "markdown",
   "metadata": {},
   "source": [
    "## Explainations of Process\n",
    "\n",
    "Please fill in (and extend if required) the list here to explain what you did. There are multiple reasonable things you could do to approach this, so please note what you did here. For most people I assume this will be about 3-5 statements - you don't need to explain the internals of things we covered (e.g. if there's a hypothesis test, you don't need to explain how that works), just how you structured your approach to the problem. \n",
    "\n",
    "\n",
    "\n"
   ]
  },
  {
   "cell_type": "markdown",
   "metadata": {},
   "source": [
    "<ul>\n",
    "<li>\n",
    "<li>\n",
    "<li>\n",
    "</ul>"
   ]
  },
  {
   "cell_type": "markdown",
   "metadata": {},
   "source": [
    "As well, please answer the following specific questions, based on what you did (~2-3 sentences each):\n",
    "\n",
    "<ul>\n",
    "<li> What metric/value/quality did you use to evaluate your model? Why did you choose this?\n",
    "<li> What did you do to improve your model? Why did you choose this? Was there a notable improvement?\n",
    "<li> What did you do to prepare the data prior to modelling? Why?\n",
    "</ul>\n"
   ]
  },
  {
   "cell_type": "markdown",
   "metadata": {},
   "source": [
    "<ul>\n",
    "<li>\n",
    "<li>\n",
    "<li>\n",
    "</ul>"
   ]
  }
 ],
 "metadata": {
  "kernelspec": {
   "display_name": "Python 3 (ipykernel)",
   "language": "python",
   "name": "python3"
  },
  "language_info": {
   "codemirror_mode": {
    "name": "ipython",
    "version": 3
   },
   "file_extension": ".py",
   "mimetype": "text/x-python",
   "name": "python",
   "nbconvert_exporter": "python",
   "pygments_lexer": "ipython3",
   "version": "3.8.16"
  },
  "vscode": {
   "interpreter": {
    "hash": "4d722d3adfa415172c1f5238b519fb86b488acdae450fd691ab06c09f4ca9173"
   }
  }
 },
 "nbformat": 4,
 "nbformat_minor": 4
}
